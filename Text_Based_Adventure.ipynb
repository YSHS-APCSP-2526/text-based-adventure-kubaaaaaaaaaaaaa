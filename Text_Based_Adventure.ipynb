{
  "nbformat": 4,
  "nbformat_minor": 0,
  "metadata": {
    "colab": {
      "provenance": [],
      "include_colab_link": true
    },
    "kernelspec": {
      "name": "python3",
      "display_name": "Python 3"
    },
    "language_info": {
      "name": "python"
    }
  },
  "cells": [
    {
      "cell_type": "markdown",
      "metadata": {
        "id": "view-in-github",
        "colab_type": "text"
      },
      "source": [
        "<a href=\"https://colab.research.google.com/github/YSHS-APCSP-2526/text-based-adventure-kubaaaaaaaaaaaaa/blob/main/Text_Based_Adventure.ipynb\" target=\"_parent\"><img src=\"https://colab.research.google.com/assets/colab-badge.svg\" alt=\"Open In Colab\"/></a>"
      ]
    },
    {
      "cell_type": "markdown",
      "source": [
        "#Requirements for text based adventure\n",
        "1. You must have at least 2 different \"paths\" that are at least 4 decisions in length\n",
        "2. Include an element of randomness (from the random library)\n",
        "3. Include a list that is core to the text based adventure\n",
        "4. Include a function that is called within your program that includes a while loop, and a parameter that influences a conditional statement in your function.\n",
        "5. Commented Code.\n",
        "6. A [digital flowchart](https://docs.google.com/document/d/1p2k3wL6gzjYWBuWxwEQptmbbOZZNsQrthlC12SNtYgY/edit?usp=sharing) that follows accepted symbols for representing code. You can use google slides or [draw.io](https://www.drawio.com/) for the flowchart."
      ],
      "metadata": {
        "id": "zpSmche7G_jy"
      }
    },
    {
      "cell_type": "code",
      "source": [
        "def intro():\n",
        "  response = input(\"Your car is already on the verge of breaking down, and you pass by a dealer and see a car you want for a good price. Do you stop? Y or N\")\n",
        "  return response"
      ],
      "metadata": {
        "id": "DCa0oKHZ8bxq"
      },
      "execution_count": 6,
      "outputs": []
    },
    {
      "cell_type": "code",
      "source": [
        "def main():\n",
        "  response = intro()\n",
        "  choice1(response)\n",
        "  choice2(response)"
      ],
      "metadata": {
        "id": "LQuG-KfJlMj3"
      },
      "execution_count": 7,
      "outputs": []
    },
    {
      "cell_type": "code",
      "source": [
        "def choice1(response):\n",
        "  response = (response).lower()\n",
        "  if response =='y' or response =='yes':\n",
        "    print(\"You turn into the dealership excited... ready for a nice new car!\")\n",
        "  else:\n",
        "    print(\"Your car breaks down at the next light! Have fun walking home\")"
      ],
      "metadata": {
        "id": "LZqVJi-18Ogh"
      },
      "execution_count": 15,
      "outputs": []
    },
    {
      "cell_type": "code",
      "source": [
        "main()"
      ],
      "metadata": {
        "colab": {
          "base_uri": "https://localhost:8080/"
        },
        "id": "V3tByNCg6XY8",
        "outputId": "94bcb570-1a77-486f-cbdf-eed062ce03c7"
      },
      "execution_count": 28,
      "outputs": [
        {
          "output_type": "stream",
          "name": "stdout",
          "text": [
            "Your car is already on the verge of breaking down, and you pass by a dealer and see a car you want for a good price. Do you stop? Y or NY\n",
            "You turn into the dealership excited... ready for a nice new car!\n"
          ]
        }
      ]
    },
    {
      "cell_type": "code",
      "source": [
        "def dealership():\n",
        "  response = input(\"You walk in and smell the scent of new cars. You see a 2025 Honda Accord. Do you walk up to it? Y or N\")\n",
        "  return response"
      ],
      "metadata": {
        "id": "WlRDfYNELHI7"
      },
      "execution_count": 25,
      "outputs": []
    },
    {
      "cell_type": "code",
      "source": [
        "def choice2(response):\n",
        "  response = (response).lower()\n",
        "  if response =='y' or response =='yes':\n",
        "    print(\"The price is only $25,000. What a deal! Do you want to test drive it? Y or N\")"
      ],
      "metadata": {
        "id": "WQfdWFoSLdBH"
      },
      "execution_count": 27,
      "outputs": []
    },
    {
      "cell_type": "code",
      "source": [
        "x = 0\n",
        "while x < 5:\n",
        "  print('hello')\n",
        "  x = x+1"
      ],
      "metadata": {
        "id": "VR1bmz3rCcL-"
      },
      "execution_count": null,
      "outputs": []
    },
    {
      "cell_type": "code",
      "source": [
        "def responseValidator(response):\n",
        "  while response !=\"yes\" and response !=\"no\":\n",
        "    response = input(\"Invalid Response: please type yes or no:  \")\n",
        "  return response"
      ],
      "metadata": {
        "id": "K29QWKxhChzu"
      },
      "execution_count": 1,
      "outputs": []
    },
    {
      "cell_type": "code",
      "source": [
        "responseValidator(\"yse\")"
      ],
      "metadata": {
        "id": "B0GZXodiC5KM",
        "outputId": "2e3c1d6d-1d9d-470e-f341-9bd9af438a6c",
        "colab": {
          "base_uri": "https://localhost:8080/",
          "height": 70
        }
      },
      "execution_count": 4,
      "outputs": [
        {
          "name": "stdout",
          "output_type": "stream",
          "text": [
            "Invalid Response: please type yes or no:  yse\n",
            "Invalid Response: please type yes or no:  yes\n"
          ]
        },
        {
          "output_type": "execute_result",
          "data": {
            "text/plain": [
              "'yes'"
            ],
            "application/vnd.google.colaboratory.intrinsic+json": {
              "type": "string"
            }
          },
          "metadata": {},
          "execution_count": 4
        }
      ]
    },
    {
      "cell_type": "code",
      "source": [
        "def choice1():\n",
        "  response1= input(\"do you agree? yes or no\")\n",
        "  response1=responseValidator(response1)\n",
        "  return response1"
      ],
      "metadata": {
        "id": "tgZf-n30DIE0"
      },
      "execution_count": 3,
      "outputs": []
    },
    {
      "cell_type": "code",
      "source": [
        "choice1()"
      ],
      "metadata": {
        "id": "0OI8XDcjDWyn",
        "outputId": "df16a99a-7bd8-45e4-d850-071e428b16cf",
        "colab": {
          "base_uri": "https://localhost:8080/"
        }
      },
      "execution_count": 5,
      "outputs": [
        {
          "name": "stdout",
          "output_type": "stream",
          "text": [
            "do you agree? yes or nos\n",
            "Invalid Response: please type yes or no:  yes\n"
          ]
        }
      ]
    }
  ]
}