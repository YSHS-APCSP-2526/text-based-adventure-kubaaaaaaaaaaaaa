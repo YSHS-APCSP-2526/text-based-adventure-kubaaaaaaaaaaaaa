{
  "nbformat": 4,
  "nbformat_minor": 0,
  "metadata": {
    "colab": {
      "provenance": [],
      "include_colab_link": true
    },
    "kernelspec": {
      "name": "python3",
      "display_name": "Python 3"
    },
    "language_info": {
      "name": "python"
    }
  },
  "cells": [
    {
      "cell_type": "markdown",
      "metadata": {
        "id": "view-in-github",
        "colab_type": "text"
      },
      "source": [
        "<a href=\"https://colab.research.google.com/github/YSHS-APCSP-2526/text-based-adventure-kubaaaaaaaaaaaaa/blob/main/Text_Based_Adventure.ipynb\" target=\"_parent\"><img src=\"https://colab.research.google.com/assets/colab-badge.svg\" alt=\"Open In Colab\"/></a>"
      ]
    },
    {
      "cell_type": "markdown",
      "source": [
        "#Requirements for text based adventure\n",
        "1. You must have at least 2 different \"paths\" that are at least 4 decisions in length\n",
        "2. Include an element of randomness (from the random library)\n",
        "3. Include a list that is core to the text based adventure\n",
        "4. Include a function that is called within your program that includes a while loop, and a parameter that influences a conditional statement in your function.\n",
        "5. Commented Code.\n",
        "6. A [digital flowchart](https://docs.google.com/document/d/1p2k3wL6gzjYWBuWxwEQptmbbOZZNsQrthlC12SNtYgY/edit?usp=sharing) that follows accepted symbols for representing code. You can use google slides or [draw.io](https://www.drawio.com/) for the flowchart."
      ],
      "metadata": {
        "id": "zpSmche7G_jy"
      }
    },
    {
      "cell_type": "code",
      "source": [
        "def intro():\n",
        "  response = input(\"You approach a haunted house. You pause at the doorway. Do you enter? Y or N: \")\n",
        "  return response"
      ],
      "metadata": {
        "id": "DCa0oKHZ8bxq"
      },
      "execution_count": 46,
      "outputs": []
    },
    {
      "cell_type": "code",
      "source": [
        "def main():\n",
        "  response = intro()\n",
        "  choice1(response)"
      ],
      "metadata": {
        "id": "LQuG-KfJlMj3"
      },
      "execution_count": 64,
      "outputs": []
    },
    {
      "cell_type": "code",
      "source": [
        "def choice1(response):\n",
        "  response = (response).lower()\n",
        "  if response =='y' or response =='yes':\n",
        "    print(\"You take a breath and enter the house...hoping you haven't made a grave mistake\")\n",
        "  else:\n",
        "    print(\"You are boring!\")"
      ],
      "metadata": {
        "id": "LZqVJi-18Ogh"
      },
      "execution_count": 91,
      "outputs": []
    },
    {
      "cell_type": "code",
      "source": [
        "main()"
      ],
      "metadata": {
        "colab": {
          "base_uri": "https://localhost:8080/"
        },
        "id": "V3tByNCg6XY8",
        "outputId": "dbd958c0-74b6-450d-e3ac-f244e4170a0d"
      },
      "execution_count": 95,
      "outputs": [
        {
          "output_type": "stream",
          "name": "stdout",
          "text": [
            "You approach a haunted house. You pause at the doorway. Do you enter? Y or N: yes\n",
            "You take a breath and enter the house...hoping you haven't made a grave mistake\n"
          ]
        }
      ]
    }
  ]
}